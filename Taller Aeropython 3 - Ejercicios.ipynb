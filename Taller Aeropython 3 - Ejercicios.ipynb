{
 "cells": [
  {
   "cell_type": "markdown",
   "metadata": {},
   "source": [
    "<img src=\"./static/aeropython_name_mini.png\" alt=\"AeroPython\" style=\"width: 300px;\"/>"
   ]
  },
  {
   "cell_type": "markdown",
   "metadata": {},
   "source": [
    "# Taller Aeropython de Introducción"
   ]
  },
  {
   "cell_type": "markdown",
   "metadata": {},
   "source": [
    "## Parte 3: Ejercicios"
   ]
  },
  {
   "cell_type": "markdown",
   "metadata": {
    "collapsed": true
   },
   "source": [
    "##### Ejercicio 1 - Receta médica"
   ]
  },
  {
   "cell_type": "markdown",
   "metadata": {},
   "source": [
    "Un farmacéutico desea automatizar la receta clásica de su familia para curar el síndrome de sangre explosiva. Esta receta se basa en tomar los datos del paciente, calcular una serie de ingredientes activos, y añadir agua, azucar y alcohol hasta rellenar el frasquito con 100 g.\n",
    "\n",
    "###### Instrucciones\n",
    "\n",
    "Datos a tomar del paciente:\n",
    "\n",
    "- Masa corporal (Kg) \n",
    "- Grupo sanguíneo\n",
    "- Glucemia: Cantidad de azúcar en sangre (mg/dL)\n",
    "- Patatemia: Cantidad de patatas en sangre (mg/dL)\n",
    "- Alergia a la magia (Sí o No)\n",
    "\n",
    "Elaboración:\n",
    "\n",
    "- Se necesitan 30 mg de Seleniuro de Cobalto por cada Kg de la ~~víctima~~ paciente. El doble de esa cantidad si el grupo sanguíneo es AB-, AB+ o B+.\n",
    "- Dividir la glucemia entre 80 y la patatemia entre 130, y sumarlas. Multiplicar por la masa corporal y por 0,57. El resultado es la cantidad de Ácido Garbáncico necesario en mg.\n",
    "- Calcular el cuadrado de la glucemia, dividir entre 100 y restar el resultado al peso. Si el resultado es positivo, añadir 3 mg de licor de murciélago. En caso contrario, añadir 3 mg de zumo de zombi. Si el paciente es alérgico a la magia, sustituír el zumo de zombi por zumo de naranja.\n",
    "- Si el paciente es del grupo 0- y NO tiene alergia a la magia, añadir 0,2 mg de sacarina.\n",
    "- Mezclar en un recipiente a parte agua, azúcar y alcohol, siendo azúcar el 5% en peso de la mezcla y alcoho el 7%.\n",
    "- Tras mezclar los ingredientes activos, añadir la mezcla anterior hasta sumar exactamente 100g\n"
   ]
  },
  {
   "cell_type": "markdown",
   "metadata": {},
   "source": [
    "###### Objetivo:\n",
    "\n",
    "Escribe una función en Python que calcule e imprima por pantalla todos los ingredientes necesarios para un paciente cualquiera. Después comprueba que funciona con estas pacientes, que han contraído el síndrome de sangre explosiva al ser mordidas por una farándula venenosa de las tienieblas durante un ritual rutinario.\n",
    "\n",
    " Paciente | Masa (Kg) | Grupo | Glucemia | Patatemia | Alergia\n",
    " ----------- | ------------- | -------- | ------------ | ------------ | ---------\n",
    " Juana D. | 85 | AB+ | 110 | 310 | No\n",
    " Genara T. | 50 | 0- | 55 | 13.35 | No\n",
    " H. P. Fernández| 70| B- | 85 | 100 | Sí\n",
    "\n",
    " \n",
    " Recuerda mostrar el nombre del paciente en la receta!\n",
    " \n",
    " Nota: puedes comprobar que tus resultados son correctos si obtienes que:\n",
    " \n",
    " - Juana necesita 4736 mg de azúcar y 23 aprox de ácido garbáncico\n",
    " - Sólo una de ellas necesita licor de murciélago\n",
    " - Genara necesita 1500 mg de Seleniuro de Cobalto"
   ]
  },
  {
   "cell_type": "code",
   "execution_count": null,
   "metadata": {
    "collapsed": true
   },
   "outputs": [],
   "source": []
  },
  {
   "cell_type": "markdown",
   "metadata": {
    "collapsed": true
   },
   "source": [
    "##### Ejercicio 2- Creador de contraseñas"
   ]
  },
  {
   "cell_type": "markdown",
   "metadata": {},
   "source": [
    "Se desea programar un generador de contraseñas que sean fáciles de recordar gracias a estar basadas en palabras, pero que sean inmunes a [ataques de diccionario](https://es.wikipedia.org/wiki/Ataque_de_diccionario)\n",
    "\n",
    "Para ello, usaremos un algoritmo ultramoderno llamado [Cifrado César](https://es.wikipedia.org/wiki/Cifrado_C%C3%A9sar). Este nombre se puso en honor a uno de sus usuarios más conocidos, Julio César, que lo usaba para mandar cartas a sus generales."
   ]
  },
  {
   "cell_type": "markdown",
   "metadata": {},
   "source": [
    "###### Instrucciones:\n",
    "\n",
    "El cifrado César es un cifrado de sustitución por desplazamiento. Esto quiere decir que el mensaje (en este caso, la contraseña) se descompone en letras, y cada una de ellas es sustituída por otra mediante un desplazamiento en el abecedario.\n",
    "<img src=\"./static/cifrado_cesar.png\" alt=\"Ejemplo de cifrado César\" style=\"width: 300px;\"/>"
   ]
  },
  {
   "cell_type": "markdown",
   "metadata": {},
   "source": [
    "###### Objetivo:\n",
    "\n",
    "Escribe una función en Python que calcule e imprima por pantalla la codificación de una frase o palabra cualquiera, que pueda incluír espacios y números. El número de puestos que se desplazan debe ser un argumento de entrada de la función. Los acentos y la ñ pueden incluírse o no.\n",
    "\n",
    "Después comprueba el algoritmo con las siguientes frases:\n",
    "- \"Benjamín pidió 3 bebidas de kiwi y fresa. Noé, sin vergüenza, las 8 más exquisitas champañas del menú\" - Desplazamiento = 4\n",
    "- \"José compró en Perú 7 viejas zampoñas. Excusándose, Sofía tiró su whisky al desagüe de la banqueta.\" - Desplazamiento = 10"
   ]
  },
  {
   "cell_type": "code",
   "execution_count": null,
   "metadata": {
    "collapsed": true
   },
   "outputs": [],
   "source": []
  },
  {
   "cell_type": "markdown",
   "metadata": {},
   "source": [
    "### Parte 2- Ejercicios Avanzados"
   ]
  },
  {
   "cell_type": "markdown",
   "metadata": {},
   "source": [
    "En los ejercicios avanzados aprenderemos a leer y escribir archivos desde Python Básico. Este tipo de transferencias se suelen llamar \"operaciones i/o (input / output)\", es decir, entrada y salida de datos.\n",
    "\n",
    "Para ello, tendremos que aprender a buscar en la ayuda de Python o incluso en internet si fuera necesario, ya que sólo te vamos a dar las siguientes pistas:\n",
    "- hay que usar las funciones `open()`, `write()` y `close()`.\n",
    "- los objetos generados por `open()` son de tipo stream y se pueden iterar en bucles `for`, pero sólo una vez. Hay que cerrarlos y abrirlos para volverlos a recorrer.\n",
    "- `write()` y `close()` son métodos del objeto stream."
   ]
  },
  {
   "cell_type": "markdown",
   "metadata": {
    "collapsed": true
   },
   "source": [
    "### CUIDADO!\n",
    "\n",
    "<div class=\"alert alert-warning\">\n",
    "Todos los archivos que abras con `open()` deben ser cerrados explícitamente después con `close()`. Esto no se hace de manera automática si algún error interrumpe el programa antes de llegar al `close()`! </div>"
   ]
  },
  {
   "cell_type": "markdown",
   "metadata": {
    "collapsed": true
   },
   "source": [
    "##### Receta Médica Avanzada"
   ]
  },
  {
   "cell_type": "markdown",
   "metadata": {},
   "source": [
    "Ya tenemos la función que genera la receta, pero introducir los datos a mano es un incordio. La base de datos de pacientes de la farmacia se encuentra en \".\\static\\pacientes.txt\" con sus datos separados por comas. Sería genial poder leerla, analizarla, y guardar los resultados."
   ]
  },
  {
   "cell_type": "markdown",
   "metadata": {},
   "source": [
    "###### Objetivos:\n",
    "\n",
    "- Usa la función `open()` para crear un objeto de tipo stream de sólo lectura para leer el archivo de pacientes.\n",
    "- Diseña una función que transforme el objeto en una lista de pacientes.\n",
    "- Diseña una función interfaz entre los pacientes tal como están en esa lista y el formato en que se introducen en la función de generar recetas.\n",
    "- Modifica la función de generar recetas para que devuelva la receta generada en vez de imprimirla por pantalla.\n",
    "- Usa la función `open()` para crear un archivo de texto nuevo.\n",
    "- Usa la función `write()` para escribir todas las recetas en el fichero."
   ]
  },
  {
   "cell_type": "markdown",
   "metadata": {},
   "source": [
    "###### Nota:\n",
    "\n",
    "Una vez hayas obtenidos los resultados, podrás descomprimir el fichero zip llamado \"secreto2\" de la carpeta Static. La contraseña es la cantidad de agua que necesita la medicina de Darth Vader, en mg, redondeada a un número entero."
   ]
  },
  {
   "cell_type": "code",
   "execution_count": null,
   "metadata": {
    "collapsed": true
   },
   "outputs": [],
   "source": []
  },
  {
   "cell_type": "markdown",
   "metadata": {
    "collapsed": true
   },
   "source": [
    "##### Criptografía avanzada"
   ]
  },
  {
   "cell_type": "markdown",
   "metadata": {},
   "source": [
    "El cifrado César que hemos visto antes pertenece al grupo de los cifrados por sustitución, en el que una letra determinada se sustituye siempre por la misma. Este tipo de claves se dejaron de usar relativamente temprano para codificar documentos debido a que son muy sensibles a los ataques llamados **\"Análisis de Frecuencias**.\n",
    "\n",
    "Este tipo de ataque se basa en que en un languaje determinado, la frecuencia con la que aparecen determinadas letras es muy característica y permite detectar la clave rápidamente.\n",
    "\n",
    "Nuestro objetivo en el ejercicio es precisamente ése: tenemos un archivo cifrado en \".\\static\\secreto.txt\" que ha sido interceptado a un espía enemigo. Nuestro topo nos ha confirmado que se ha usado una clave Cesar, pero desconoce cuál. Debemos descifrarlo!"
   ]
  },
  {
   "cell_type": "markdown",
   "metadata": {},
   "source": [
    "###### Objetivos:\n",
    "\n",
    "- Usa la función `open()` para crear un objeto de tipo stream de sólo lectura para leer el archivo cifrado.\n",
    "- Diseña una función para transformar ese objeto en una cadena de texto normal.\n",
    "- Diseña una función que cuente con cuánta frecuencia aparece cada letra.\n",
    "- Busca un texto en español lo bastante largo y correcto como para obtener una distribución de frecuencias típica con la que comparar las del texto cifrado.\n",
    "- Nuestro topo asegura que el algoritmo de cifrado enemigo usa una cadena de tipo \"aábcdeéfg[...]uúü[...]xyz12[...]90 ,.!?:\" . Todo se pasa a minúsculas antes del cifrado.\n",
    "- Usa la función de cifrado César con un desplazamiento adecuado para descifrar el mensaje.\n",
    "- Sigue las instrucciones del mensaje descifrado."
   ]
  },
  {
   "cell_type": "code",
   "execution_count": null,
   "metadata": {
    "collapsed": true
   },
   "outputs": [],
   "source": []
  },
  {
   "cell_type": "markdown",
   "metadata": {},
   "source": [
    "Si te está gustando este taller:\n",
    "\n",
    "<a href=\"https://twitter.com/share\" class=\"twitter-share-button\" data-url=\"https://github.com/AeroPython/PyDayMad16-intro\" data-text=\"Aprendiendo Python con\" data-via=\"AeroPython\" data-lang=\"es\" data-size=\"large\" data-hashtags=\"PyDay\">Twittear</a>\n",
    "<script>!function(d,s,id){var js,fjs=d.getElementsByTagName(s)[0],p=/^http:/.test(d.location)?'http':'https';if(!d.getElementById(id)){js=d.createElement(s);js.id=id;js.src=p+'://platform.twitter.com/widgets.js';fjs.parentNode.insertBefore(js,fjs);}}(document, 'script', 'twitter-wjs');</script>"
   ]
  },
  {
   "cell_type": "markdown",
   "metadata": {},
   "source": [
    "#### <h4 align=\"right\">¡Síguenos en Twitter!"
   ]
  },
  {
   "cell_type": "markdown",
   "metadata": {},
   "source": [
    "###### <a href=\"https://twitter.com/AeroPython\" class=\"twitter-follow-button\" data-show-count=\"false\">Follow @AeroPython</a> <script>!function(d,s,id){var js,fjs=d.getElementsByTagName(s)[0],p=/^http:/.test(d.location)?'http':'https';if(!d.getElementById(id)){js=d.createElement(s);js.id=id;js.src=p+'://platform.twitter.com/widgets.js';fjs.parentNode.insertBefore(js,fjs);}}(document, 'script', 'twitter-wjs');</script>  "
   ]
  },
  {
   "cell_type": "markdown",
   "metadata": {},
   "source": [
    "##### <a rel=\"license\" href=\"http://creativecommons.org/licenses/by/4.0/deed.es\"><img alt=\"Licencia Creative Commons\" style=\"border-width:0\" src=\"http://i.creativecommons.org/l/by/4.0/88x31.png\" /></a><br /><span xmlns:dct=\"http://purl.org/dc/terms/\" property=\"dct:title\">Curso AeroPython</span> por <span xmlns:cc=\"http://creativecommons.org/ns#\" property=\"cc:attributionName\">Juan Luis Cano Rodriguez y Alejandro Sáez Mollejo</span> se distribuye bajo una <a rel=\"license\" href=\"http://creativecommons.org/licenses/by/4.0/deed.es\">Licencia Creative Commons Atribución 4.0 Internacional</a>."
   ]
  },
  {
   "cell_type": "markdown",
   "metadata": {},
   "source": [
    "##### <script src=\"//platform.linkedin.com/in.js\" type=\"text/javascript\"></script> <script type=\"IN/MemberProfile\" data-id=\"http://es.linkedin.com/in/juanluiscanor\" data-format=\"inline\" data-related=\"false\"></script> <script src=\"//platform.linkedin.com/in.js\" type=\"text/javascript\"></script> <script type=\"IN/MemberProfile\" data-id=\"http://es.linkedin.com/in/alejandrosaezm\" data-format=\"inline\" data-related=\"false\"></script>"
   ]
  },
  {
   "cell_type": "markdown",
   "metadata": {},
   "source": [
    "---\n",
    "_Las siguientes celdas contienen configuración del Notebook_\n",
    "\n",
    "_Para visualizar y utlizar los enlaces a Twitter el notebook debe ejecutarse como [seguro](http://ipython.org/ipython-doc/dev/notebook/security.html)_\n",
    "\n",
    "    File > Trusted Notebook"
   ]
  },
  {
   "cell_type": "code",
   "execution_count": 1,
   "metadata": {
    "collapsed": false
   },
   "outputs": [
    {
     "data": {
      "text/html": [
       "<a href=\"https://twitter.com/AeroPython\" class=\"twitter-follow-button\" data-show-count=\"false\">Follow @AeroPython</a>\n",
       "<script>!function(d,s,id){var js,fjs=d.getElementsByTagName(s)[0],p=/^http:/.test(d.location)?'http':'https';if(!d.getElementById(id)){js=d.createElement(s);js.id=id;js.src=p+'://platform.twitter.com/widgets.js';fjs.parentNode.insertBefore(js,fjs);}}(document, 'script', 'twitter-wjs');</script>"
      ],
      "text/plain": [
       "<IPython.core.display.HTML object>"
      ]
     },
     "metadata": {},
     "output_type": "display_data"
    }
   ],
   "source": [
    "%%html\n",
    "<a href=\"https://twitter.com/AeroPython\" class=\"twitter-follow-button\" data-show-count=\"false\">Follow @AeroPython</a>\n",
    "<script>!function(d,s,id){var js,fjs=d.getElementsByTagName(s)[0],p=/^http:/.test(d.location)?'http':'https';if(!d.getElementById(id)){js=d.createElement(s);js.id=id;js.src=p+'://platform.twitter.com/widgets.js';fjs.parentNode.insertBefore(js,fjs);}}(document, 'script', 'twitter-wjs');</script>"
   ]
  },
  {
   "cell_type": "code",
   "execution_count": 4,
   "metadata": {
    "collapsed": false
   },
   "outputs": [
    {
     "data": {
      "text/html": [
       "<link href='http://fonts.googleapis.com/css?family=Source+Sans+Pro|Josefin+Sans:400,700,400italic|Ubuntu+Condensed' rel='stylesheet' type='text/css'>\n",
       "\n",
       "\n",
       "<style>\n",
       "\n",
       "#notebook_panel { /* main background */\n",
       "    background: #f7f7f7;\n",
       "}\n",
       "\n",
       "div.cell { /* set cell width */\n",
       "    width: 900px;\n",
       "}\n",
       "\n",
       "div #notebook { /* centre the content */\n",
       "    background: #fff; /* white background for content */\n",
       "    width: 950px;\n",
       "    margin: auto;\n",
       "    padding-left: 0em;\n",
       "}\n",
       "\n",
       "#notebook li { /* More space between bullet points */\n",
       "    margin-top:0.7em;\n",
       "}\n",
       "\n",
       "/* draw border around running cells */\n",
       "div.cell.border-box-sizing.code_cell.running { \n",
       "    border: 1px solid #111;\n",
       "}\n",
       "\n",
       "/* Put a solid color box around each cell and its output, visually linking them*/\n",
       "div.cell.code_cell {\n",
       "    font-family: 'Source Sans Pro', sans-serif;\n",
       "    background-color: rgb(256,256,256);\n",
       "    font-size: 110%;\n",
       "    border-radius: 0px; \n",
       "    padding: 0.5em;\n",
       "    margin-left:1em;\n",
       "    margin-top: 1em;\n",
       "}\n",
       "\n",
       "div.text_cell_render{\n",
       "    font-family: 'Josefin Sans', serif;\n",
       "    line-height: 145%;\n",
       "    font-size: 125%;\n",
       "    font-weight: 500;\n",
       "    width:750px;\n",
       "    margin-left:auto;\n",
       "    margin-right:auto;\n",
       "}\n",
       "\n",
       "\n",
       "/* Formatting for header cells */\n",
       ".text_cell_render h1, .text_cell_render h2, .text_cell_render h3,\n",
       ".text_cell_render h4, .text_cell_render h5 {\n",
       "    font-family: 'Ubuntu Condensed', sans-serif;\n",
       "}\n",
       "\n",
       ".text_cell_render h1 {    /*Use this for Title*/\n",
       "    font-weight: 500;\n",
       "    font-size: 38pt;\n",
       "    line-height: 100%;\n",
       "    color: #ffbc29;\n",
       "    text-align: center;\n",
       "    margin-bottom: 0.1em;\n",
       "    margin-top: 0.3em;\n",
       "    display: block;\n",
       "}\n",
       "\n",
       ".text_cell_render h2 {    /*Use this for Subtitle*/\n",
       "    margin-top:16px;\n",
       "    font-size: 32pt;\n",
       "    font-weight: 500;\n",
       "    margin-bottom: 0.1em;\n",
       "    margin-top: 0.3em;\n",
       "    text-align: center;\n",
       "    font-style: regular;\n",
       "    color: #376a94;\n",
       "}\t\n",
       "\n",
       ".text_cell_render h3 {   /*Sections*/ \n",
       "    font-size: 30pt;\n",
       "    font-weight: 300;\n",
       "    text-align: left;\n",
       "    margin-bottom: 0.1em;\n",
       "    margin-top: 0.3em;\n",
       "    font-style: regular;\n",
       "    color:  #252525;\n",
       "}\n",
       "\n",
       ".text_cell_render h4 {    /*Subsections*/\n",
       "    font-size: 28pt;\n",
       "    font-weight: 200;\n",
       "    text-align: left;\n",
       "    margin-bottom: 0.1em;\n",
       "    margin-top: 0.3em;\n",
       "    font-style: regular;\n",
       "    color:  #376a94;\n",
       "}\n",
       "\n",
       ".text_cell_render h5 {    /*Subsubsections*/\n",
       "    font-size: 20pt;\n",
       "    font-weight: 300;\n",
       "    font-style: italic;\n",
       "    margin-bottom: .1em;\n",
       "    margin-top: 0.8em;\n",
       "    display: block;\n",
       "    color:  #ffbc29;\n",
       "}\n",
       "\n",
       ".text_cell_render h6 {    /*Author*/\n",
       "    font-family: 'Ubuntu Condensed', sans-serif;\n",
       "    font-weight: 100;\n",
       "    font-size: 14pt;\n",
       "    line-height: 100%;\n",
       "    color: #252525;\n",
       "    text-align: right;\n",
       "    margin-bottom: 1px;\n",
       "    margin-top: 3px;\n",
       "}\n",
       "\n",
       ".CodeMirror{\n",
       "        font-family: 'Duru Sans', sans-serif;\n",
       "        font-size: 100%;\n",
       "}\n",
       "\n",
       "</style>\n",
       "<script>\n",
       "    MathJax.Hub.Config({\n",
       "                        TeX: {\n",
       "                           extensions: [\"AMSmath.js\"],\n",
       "                           equationNumbers: { autoNumber: \"AMS\", useLabelIds: true}\n",
       "                           },\n",
       "                tex2jax: {\n",
       "                    inlineMath: [ ['$','$'], [\"\\\\(\",\"\\\\)\"] ],\n",
       "                    displayMath: [ ['$$','$$'], [\"\\\\[\",\"\\\\]\"] ]\n",
       "                },\n",
       "                displayAlign: 'center', // Change this to 'center' to center equations.\n",
       "                \"HTML-CSS\": {\n",
       "                    styles: {'.MathJax_Display': {\"margin\": 4}}\n",
       "                }\n",
       "        });\n",
       "</script>\n"
      ],
      "text/plain": [
       "<IPython.core.display.HTML object>"
      ]
     },
     "execution_count": 4,
     "metadata": {},
     "output_type": "execute_result"
    }
   ],
   "source": [
    "# Esta celda da el estilo al notebook\n",
    "from IPython.core.display import HTML\n",
    "css_file = './static/style.css'\n",
    "HTML(open(css_file, \"r\").read())"
   ]
  },
  {
   "cell_type": "code",
   "execution_count": null,
   "metadata": {
    "collapsed": true
   },
   "outputs": [],
   "source": []
  }
 ],
 "metadata": {
  "kernelspec": {
   "display_name": "Python 3",
   "language": "python",
   "name": "python3"
  },
  "language_info": {
   "codemirror_mode": {
    "name": "ipython",
    "version": 3
   },
   "file_extension": ".py",
   "mimetype": "text/x-python",
   "name": "python",
   "nbconvert_exporter": "python",
   "pygments_lexer": "ipython3",
   "version": "3.5.2"
  }
 },
 "nbformat": 4,
 "nbformat_minor": 0
}
