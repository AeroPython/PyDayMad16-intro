{
 "cells": [
  {
   "cell_type": "markdown",
   "metadata": {},
   "source": [
    "<img src=\"../../static/aeropython_name_mini.png\" alt=\"AeroPython\" style=\"width: 300px;\"/>"
   ]
  },
  {
   "cell_type": "markdown",
   "metadata": {
    "collapsed": false
   },
   "source": [
    "## Interactuar con arduino desde un Notebook"
   ]
  },
  {
   "cell_type": "code",
   "execution_count": null,
   "metadata": {
    "collapsed": true
   },
   "outputs": [],
   "source": [
    "import serial\n",
    "import datetime\n",
    "%matplotlib inline\n",
    "import matplotlib.pyplot as plt\n",
    "import numpy as np"
   ]
  },
  {
   "cell_type": "code",
   "execution_count": null,
   "metadata": {
    "collapsed": false
   },
   "outputs": [],
   "source": [
    "def deltatime():\n",
    "    tiempo = datetime.datetime.now()\n",
    "    deltat = tiempo - starttime\n",
    "    return deltat.seconds + deltat.microseconds/1000000"
   ]
  },
  {
   "cell_type": "code",
   "execution_count": null,
   "metadata": {
    "collapsed": true
   },
   "outputs": [],
   "source": [
    "def decode_medida(lectura):\n",
    "    _pos = lectura.find('posicion') + 10\n",
    "    _pos2 = lectura.find(' ',_pos )\n",
    "    medida_1 = float(lectura[_pos : _pos2])\n",
    "\n",
    "    _pos = lectura.find('velocidad') + 11\n",
    "    _pos2 = lectura.find(' ',_pos )\n",
    "    medida_2 = float(lectura[_pos : _pos2])\n",
    "    \n",
    "    return (medida_1, medida_2)"
   ]
  },
  {
   "cell_type": "code",
   "execution_count": null,
   "metadata": {
    "collapsed": true
   },
   "outputs": [],
   "source": [
    "def com_status(tiempos, posiciones, velocidades, hitos, serial_com):\n",
    "    serial_com.write(b'status')\n",
    "    lectura = serial_com.readline().decode(\"utf-8\")\n",
    "    print(lectura) #Espera hasta que empiece a comunicarse\n",
    "    if lectura[:22] == 'Modo escucha. Medida: ':\n",
    "        tiempos.append(deltatime())\n",
    "        medida = float(lectura[22:])\n",
    "        posiciones.append(medida)\n",
    "        velocidades.append(0.0)"
   ]
  },
  {
   "cell_type": "code",
   "execution_count": null,
   "metadata": {
    "collapsed": true
   },
   "outputs": [],
   "source": [
    "def com_start_full():\n",
    "    ser = serial.Serial('COM4', 9600) #Iniciamos comunicación\n",
    "    #Linux: ser = serial.Serial('/dev/ttyACM0', 9600)\n",
    "    ser.readline()\n",
    "    ser.write(b'calibrate')\n",
    "    ser.readline()\n",
    "    starttime = datetime.datetime.now()\n",
    "    return ser, starttime"
   ]
  },
  {
   "cell_type": "code",
   "execution_count": null,
   "metadata": {
    "collapsed": true
   },
   "outputs": [],
   "source": [
    "def com_move(tiempos, posiciones, velocidades, hitos, serial_com, destino, medida):\n",
    "    destino = str(destino).encode()\n",
    "    serial_com.write(b'move')\n",
    "    serial_com.readline()\n",
    "    serial_com.write(destino) #Enviamos una orden\n",
    "    print('mensaje enviado\\r\\n')\n",
    "    posiciones.append(medida)\n",
    "    velocidades.append(0.0)       \n",
    "    tiempos.append(deltatime())\n",
    "    #hitos.append(deltatime())"
   ]
  },
  {
   "cell_type": "code",
   "execution_count": null,
   "metadata": {
    "collapsed": true
   },
   "outputs": [],
   "source": [
    "def com_read_move(tiempos, posiciones, velocidades, hitos, serial_com):\n",
    "    finish = False\n",
    "    lectura = serial_com.readline().decode(\"utf-8\")\n",
    "    print(lectura) \n",
    "    if lectura == 'Alcanzado\\r\\n':\n",
    "        hitos.append(deltatime())\n",
    "        finish = True\n",
    "    if lectura[:8] == 'moviendo':\n",
    "        medida = decode_medida(lectura)\n",
    "        posiciones.append(medida[0])\n",
    "        velocidades.append(medida[1])        \n",
    "        tiempos.append(deltatime())\n",
    "    return finish"
   ]
  },
  {
   "cell_type": "code",
   "execution_count": null,
   "metadata": {
    "collapsed": false,
    "scrolled": true
   },
   "outputs": [],
   "source": [
    "tiempos = []\n",
    "posiciones =[]\n",
    "velocidades = []\n",
    "hitos = []\n",
    "destinos = [15,60,90,120,10]\n",
    "\n",
    "ser, starttime = com_start_full()\n",
    "\n",
    "print('preparado')\n",
    "for destino in destinos:\n",
    "    # -------------------------------\n",
    "    com_status(tiempos, posiciones, velocidades, hitos, ser)\n",
    "    # -----------------------------------\n",
    "\n",
    "    com_move(tiempos, posiciones, velocidades, hitos, ser, destino, posiciones[-1])\n",
    "\n",
    "    for i in range(100): #Leemos hasta que pase a 'Esperando', o hasta que pasen 100 pasos\n",
    "        finish = com_read_move(tiempos, posiciones, velocidades, hitos, ser)\n",
    "        if finish: break\n",
    "            \n",
    "ser.close()"
   ]
  },
  {
   "cell_type": "code",
   "execution_count": null,
   "metadata": {
    "collapsed": false
   },
   "outputs": [],
   "source": [
    "plt.figure(figsize=(12,8))\n",
    "plt.plot(tiempos, posiciones, label = 'Posición')\n",
    "plt.plot(tiempos, np.array(velocidades)*100, label = 'Velocidad (x100)')\n",
    "plt.hlines(0, 0, tiempos[-1], 'k','--')\n",
    "for hito in hitos:\n",
    "    plt.vlines(hito, -50,170, 'r', '--')\n",
    "plt.legend(loc = 2)"
   ]
  },
  {
   "cell_type": "code",
   "execution_count": null,
   "metadata": {
    "collapsed": false
   },
   "outputs": [],
   "source": [
    "tiempos"
   ]
  },
  {
   "cell_type": "code",
   "execution_count": null,
   "metadata": {
    "collapsed": false
   },
   "outputs": [],
   "source": [
    "posiciones"
   ]
  },
  {
   "cell_type": "code",
   "execution_count": null,
   "metadata": {
    "collapsed": true
   },
   "outputs": [],
   "source": []
  },
  {
   "cell_type": "code",
   "execution_count": null,
   "metadata": {
    "collapsed": true
   },
   "outputs": [],
   "source": []
  }
 ],
 "metadata": {
  "kernelspec": {
   "display_name": "Python 3",
   "language": "python",
   "name": "python3"
  },
  "language_info": {
   "codemirror_mode": {
    "name": "ipython",
    "version": 3
   },
   "file_extension": ".py",
   "mimetype": "text/x-python",
   "name": "python",
   "nbconvert_exporter": "python",
   "pygments_lexer": "ipython3",
   "version": "3.5.2"
  }
 },
 "nbformat": 4,
 "nbformat_minor": 0
}
