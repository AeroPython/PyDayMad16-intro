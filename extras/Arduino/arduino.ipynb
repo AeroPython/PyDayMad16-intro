{
 "cells": [
  {
   "cell_type": "markdown",
   "metadata": {
    "collapsed": false
   },
   "source": [
    "## Interactuar con arduino desde un Notebook"
   ]
  },
  {
   "cell_type": "markdown",
   "metadata": {},
   "source": [
    "AVISO DE CHAPUZA SUPREMA"
   ]
  },
  {
   "cell_type": "markdown",
   "metadata": {},
   "source": [
    "Primero, abrimos la vía de comunicación"
   ]
  },
  {
   "cell_type": "code",
   "execution_count": 1,
   "metadata": {
    "collapsed": true
   },
   "outputs": [],
   "source": [
    "import serial\n",
    "import datetime"
   ]
  },
  {
   "cell_type": "code",
   "execution_count": 2,
   "metadata": {
    "collapsed": false
   },
   "outputs": [],
   "source": [
    "ser = serial.Serial('COM4', 9600)\n",
    "\n",
    "#Linux: ser = serial.Serial('/dev/ttyACM0', 9600)"
   ]
  },
  {
   "cell_type": "markdown",
   "metadata": {},
   "source": [
    "Con la función readline() podemos leer, y con decode la dejamos más bonita"
   ]
  },
  {
   "cell_type": "code",
   "execution_count": 3,
   "metadata": {
    "collapsed": false,
    "scrolled": true
   },
   "outputs": [
    {
     "name": "stdout",
     "output_type": "stream",
     "text": [
      "Medida: 86.14\n",
      "\n",
      "esperando\n",
      "\n",
      "mode escucha\n",
      "\n",
      "Medida: 85.00\n",
      "\n",
      "esperando\n",
      "\n",
      "mode escucha\n",
      "\n",
      "Medida: 85.00\n",
      "\n",
      "esperando\n",
      "\n",
      "mode escucha\n",
      "\n",
      "Medida: 85.00\n",
      "\n",
      "esperando\n",
      "\n",
      "mode escucha\n",
      "\n",
      "Medida: 85.00\n",
      "\n",
      "esperando\n",
      "\n",
      "mode escucha\n",
      "\n",
      "Medida: 85.00\n",
      "\n",
      "esperando\n",
      "\n",
      "mode escucha\n",
      "\n",
      "Medida: 85.57\n",
      "\n",
      "esperando\n",
      "\n",
      "mode escucha\n",
      "\n",
      "Medida: 85.00\n",
      "\n",
      "esperando\n",
      "\n",
      "mode escucha\n",
      "\n",
      "Medida: 85.00\n",
      "\n",
      "esperando\n",
      "\n",
      "mode escucha\n",
      "\n",
      "Medida: 85.00\n",
      "\n",
      "esperando\n",
      "\n",
      "mode escucha\n",
      "\n",
      "Medida: 85.00\n",
      "\n",
      "esperando\n",
      "\n",
      "mode escucha\n",
      "\n",
      "Medida: 84.65\n",
      "\n",
      "esperando\n",
      "\n",
      "mode escucha\n",
      "\n",
      "Medida: 85.00\n",
      "\n",
      "esperando\n",
      "\n",
      "mode escucha\n",
      "\n",
      "Medida: 85.00\n",
      "\n",
      "esperando\n",
      "\n",
      "mode escucha\n",
      "\n",
      "Medida: 85.00\n",
      "\n",
      "esperando\n",
      "\n",
      "mode escucha\n",
      "\n",
      "Medida: 85.00\n",
      "\n",
      "esperando\n",
      "\n",
      "mode escucha\n",
      "\n",
      "Medida: 85.00\n",
      "\n",
      "esperando\n",
      "\n",
      "mode escucha\n",
      "\n",
      "Medida: 85.00\n",
      "\n",
      "esperando\n",
      "\n",
      "mode escucha\n",
      "\n",
      "Medida: 85.00\n",
      "\n",
      "esperando\n",
      "\n",
      "mode escucha\n",
      "\n",
      "Medida: 85.00\n",
      "\n",
      "esperando\n",
      "\n",
      "mode escucha\n",
      "\n",
      "Medida: 85.00\n",
      "\n",
      "esperando\n",
      "\n",
      "mode escucha\n",
      "\n",
      "Medida: 85.00\n",
      "\n",
      "esperando\n",
      "\n",
      "mode escucha\n",
      "\n",
      "Medida: 85.00\n",
      "\n",
      "esperando\n",
      "\n",
      "mode escucha\n",
      "\n",
      "Medida: 85.00\n",
      "\n",
      "esperando\n",
      "\n",
      "mode escucha\n",
      "\n",
      "Medida: 85.00\n",
      "\n",
      "esperando\n",
      "\n",
      "mode escucha\n",
      "\n",
      "Medida: 85.00\n",
      "\n",
      "esperando\n",
      "\n",
      "mode escucha\n",
      "\n",
      "Medida: 85.00\n",
      "\n",
      "esperando\n",
      "\n",
      "mode escucha\n",
      "\n",
      "Medida: 85.00\n",
      "\n",
      "esperando\n",
      "\n",
      "mode escucha\n",
      "\n",
      "Medida: 85.00\n",
      "\n",
      "esperando\n",
      "\n",
      "mode escucha\n",
      "\n",
      "Medida: 85.00\n",
      "\n",
      "esperando\n",
      "\n",
      "mode escucha\n",
      "\n",
      "Medida: 85.00\n",
      "\n",
      "esperando\n",
      "\n",
      "mode escucha\n",
      "\n",
      "Medida: 85.00\n",
      "\n",
      "esperando\n",
      "\n",
      "mode escucha\n",
      "\n",
      "Medida: 85.00\n",
      "\n",
      "esperando\n",
      "\n",
      "mode escucha\n",
      "\n",
      "Medida: 85.00\n",
      "\n"
     ]
    }
   ],
   "source": [
    "for i in range(100):\n",
    "    print(ser.readline().decode(\"utf-8\") )"
   ]
  },
  {
   "cell_type": "markdown",
   "metadata": {},
   "source": [
    "Podemos también escribir!"
   ]
  },
  {
   "cell_type": "code",
   "execution_count": 4,
   "metadata": {
    "collapsed": false
   },
   "outputs": [
    {
     "data": {
      "text/plain": [
       "2"
      ]
     },
     "execution_count": 4,
     "metadata": {},
     "output_type": "execute_result"
    }
   ],
   "source": [
    "ser.write(b'50')"
   ]
  },
  {
   "cell_type": "markdown",
   "metadata": {},
   "source": [
    "Para lo siguiente, tendremos que cortar la comunicación"
   ]
  },
  {
   "cell_type": "code",
   "execution_count": 5,
   "metadata": {
    "collapsed": true
   },
   "outputs": [],
   "source": [
    "ser.close()"
   ]
  },
  {
   "cell_type": "markdown",
   "metadata": {},
   "source": [
    "Hagamos cosas de verdad"
   ]
  },
  {
   "cell_type": "code",
   "execution_count": 6,
   "metadata": {
    "collapsed": false
   },
   "outputs": [
    {
     "name": "stdout",
     "output_type": "stream",
     "text": [
      "preparado\n",
      "Medida: 85.00\n",
      "\n",
      "esperando\n",
      "\n",
      "mode escucha\n",
      "\n",
      "mensaje enviado\n",
      "\n",
      "Medida: 85.00\n",
      "\n",
      "moviendo a 50\n",
      "\n",
      "moviendo a 50.00 posicion: 75.41 velocidad: -0.40\n",
      "\n",
      "moviendo a 50.00 posicion: 47.67 velocidad: -0.30\n",
      "\n",
      "moviendo a 50.00 posicion: 37.74 velocidad: 0.10\n",
      "\n",
      "moviendo a 50.00 posicion: 47.67 velocidad: 0.16\n",
      "\n",
      "Medida: 51.10\n",
      "\n",
      "esperando\n",
      "\n",
      "mode escucha\n",
      "\n",
      "Medida: 51.10\n",
      "\n",
      "pasando a segunda orden\n",
      "\n",
      "esperando\n",
      "\n",
      "mode escucha\n",
      "\n",
      "Medida: 51.10\n",
      "\n",
      "moviendo a 150.00 posicion: 64.34 velocidad: 0.02\n",
      "\n",
      "moviendo a 150.00 posicion: 77.37 velocidad: 0.42\n",
      "\n",
      "moviendo a 150.00 posicion: 124.61 velocidad: 0.74\n",
      "\n",
      "moviendo a 150.00 posicion: 172.23 velocidad: 0.36\n",
      "\n",
      "moviendo a 150.00 posicion: 186.91 velocidad: -0.04\n",
      "\n",
      "moviendo a 150.00 posicion: 174.45 velocidad: -0.44\n",
      "\n",
      "moviendo a 150.00 posicion: 146.41 velocidad: -0.16\n",
      "\n",
      "moviendo a 150.00 posicion: 145.52 velocidad: 0.12\n",
      "\n",
      "moviendo a 150.00 posicion: 149.97 velocidad: 0.00\n",
      "\n",
      "Medida: 149.97\n",
      "\n",
      "esperando\n",
      "\n",
      "mode escucha\n",
      "\n",
      "Medida: 149.97\n",
      "\n"
     ]
    }
   ],
   "source": [
    "ser = serial.Serial('COM4', 9600) #Iniciamos comunicación\n",
    "\n",
    "print('preparado')\n",
    "for i in range(3):\n",
    "    print(ser.readline().decode(\"utf-8\") ) #Espera hasta que empiece a comunicarse\n",
    "# -----------------------------------\n",
    "ser.write(b'50') #Enviamos una orden\n",
    "print('mensaje enviado\\r\\n')\n",
    "for i in range(2):\n",
    "    print(ser.readline().decode(\"utf-8\") ) #Leemos un par de veces para limpiar el puerto por si acaso\n",
    "\n",
    "for i in range(100): #Leemos hasta que pase a 'Esperando', o hasta que termine\n",
    "    if ser.readline() == b'esperando\\r\\n':\n",
    "        print('esperando\\r\\n')\n",
    "        print(ser.readline().decode(\"utf-8\") )\n",
    "        print(ser.readline().decode(\"utf-8\") )\n",
    "        break\n",
    "    print(ser.readline().decode(\"utf-8\") )\n",
    "#------------------------------------\n",
    "print('pasando a segunda orden\\r\\n')    \n",
    "ser.write(b'150')\n",
    "for i in range(3):\n",
    "    print(ser.readline().decode(\"utf-8\") )\n",
    "for i in range(100):\n",
    "    if ser.readline() == b'esperando\\r\\n':\n",
    "        print('esperando\\r\\n')\n",
    "        print(ser.readline().decode(\"utf-8\") )\n",
    "        print(ser.readline().decode(\"utf-8\") )\n",
    "        break\n",
    "    print(ser.readline().decode(\"utf-8\") )\n",
    "ser.close()"
   ]
  },
  {
   "cell_type": "markdown",
   "metadata": {},
   "source": [
    "Un poco más avanzado!"
   ]
  },
  {
   "cell_type": "code",
   "execution_count": 7,
   "metadata": {
    "collapsed": false,
    "scrolled": true
   },
   "outputs": [
    {
     "name": "stdout",
     "output_type": "stream",
     "text": [
      "preparado\n",
      "Medida: 85.00\n",
      "\n",
      "esperando\n",
      "\n",
      "mode escucha\n",
      "\n",
      "mensaje enviado\n",
      "\n",
      "Medida: 85.00\n",
      "\n",
      "moviendo a 50\n",
      "\n",
      "moviendo a 50.00 posicion: 83.25 velocidad: -0.20\n",
      "\n",
      "moviendo a 50.00 posicion: 74.84 velocidad: -0.40\n",
      "\n",
      "moviendo a 50.00 posicion: 62.57 velocidad: -0.49\n",
      "\n",
      "moviendo a 50.00 posicion: 46.10 velocidad: -0.29\n",
      "\n",
      "moviendo a 50.00 posicion: 38.74 velocidad: -0.09\n",
      "\n",
      "moviendo a 50.00 posicion: 38.74 velocidad: 0.11\n",
      "\n",
      "moviendo a 50.00 posicion: 40.14 velocidad: 0.31\n",
      "\n",
      "moviendo a 50.00 posicion: 47.85 velocidad: 0.15\n",
      "\n",
      "mode escucha\n",
      "\n",
      "Medida: 49.95\n",
      "\n",
      "esperando\n",
      "\n",
      "mode escucha\n",
      "\n",
      "Medida: 49.95\n",
      "\n",
      "pasando a segunda orden\n",
      "\n",
      "esperando\n",
      "\n",
      "mode escucha\n",
      "\n",
      "Medida: 49.95\n",
      "\n",
      "moviendo a 150\n",
      "\n",
      "moviendo a 150.00 posicion: 66.86 velocidad: 0.07\n",
      "\n",
      "moviendo a 150.00 posicion: 71.27 velocidad: 0.27\n",
      "\n",
      "moviendo a 150.00 posicion: 85.88 velocidad: 0.47\n",
      "\n",
      "moviendo a 150.00 posicion: 106.47 velocidad: 0.67\n",
      "\n",
      "moviendo a 150.00 posicion: 147.22 velocidad: 0.67\n",
      "\n",
      "moviendo a 150.00 posicion: 160.36 velocidad: 0.47\n",
      "\n",
      "moviendo a 150.00 posicion: 176.13 velocidad: 0.27\n",
      "\n",
      "moviendo a 150.00 posicion: 183.58 velocidad: 0.07\n",
      "\n",
      "moviendo a 150.00 posicion: 185.34 velocidad: -0.13\n",
      "\n",
      "moviendo a 150.00 posicion: 177.89 velocidad: -0.33\n",
      "\n",
      "moviendo a 150.00 posicion: 163.43 velocidad: -0.40\n",
      "\n",
      "moviendo a 150.00 posicion: 150.72 velocidad: -0.20\n",
      "\n",
      "moviendo a 150.00 posicion: 146.34 velocidad: -0.00\n",
      "\n",
      "moviendo a 150.00 posicion: 147.22 velocidad: 0.07\n",
      "\n",
      "moviendo a 150.00 posicion: 149.41 velocidad: 0.02\n",
      "\n",
      "moviendo a 150.00 posicion: 149.41 velocidad: 0.02\n",
      "\n",
      "mode escucha\n",
      "\n",
      "Medida: 150.72\n",
      "\n",
      "esperando\n",
      "\n",
      "mode escucha\n",
      "\n",
      "Medida: 150.72\n",
      "\n"
     ]
    }
   ],
   "source": [
    "tiempos = []\n",
    "posiciones =[]\n",
    "starttime = datetime.datetime.now()\n",
    "\n",
    "ser = serial.Serial('COM4', 9600) #Iniciamos comunicación\n",
    "\n",
    "print('preparado')\n",
    "for i in range(3):\n",
    "    lectura = ser.readline().decode(\"utf-8\")\n",
    "    print(lectura) #Espera hasta que empiece a comunicarse\n",
    "    if lectura[:8] == 'Medida: ':\n",
    "        tiempo = datetime.datetime.now()\n",
    "        deltat = tiempo - starttime\n",
    "        deltatvalue = deltat.seconds + deltat.microseconds/1000000\n",
    "        tiempos.append(deltatvalue)\n",
    "        medida = float(lectura[8:])\n",
    "        posiciones.append(medida)\n",
    "# -----------------------------------\n",
    "ser.write(b'50') #Enviamos una orden\n",
    "print('mensaje enviado\\r\\n')\n",
    "for i in range(2):\n",
    "    print(ser.readline().decode(\"utf-8\") ) #Leemos un par de veces para limpiar el puerto por si acaso\n",
    "\n",
    "for i in range(100): #Leemos hasta que pase a 'Esperando', o hasta que termine\n",
    "    lectura = ser.readline().decode(\"utf-8\")\n",
    "    print(lectura) \n",
    "    if lectura == 'esperando\\r\\n':\n",
    "        print(ser.readline().decode(\"utf-8\") )\n",
    "        print(ser.readline().decode(\"utf-8\") )\n",
    "        break\n",
    "    if lectura[:8] == 'moviendo':\n",
    "        _pos = lectura.find('posicion') + 10\n",
    "        _pos2 = lectura.find(' ',_pos )\n",
    "        medida = float(lectura[_pos : _pos2])\n",
    "        posiciones.append(medida)\n",
    "        tiempo = datetime.datetime.now()\n",
    "        deltat = tiempo - starttime\n",
    "        deltatvalue = deltat.seconds + deltat.microseconds/1000000\n",
    "        tiempos.append(deltatvalue)\n",
    "   \n",
    "#------------------------------------\n",
    "print('pasando a segunda orden\\r\\n')    \n",
    "ser.write(b'150')\n",
    "for i in range(4):\n",
    "    lectura = ser.readline().decode(\"utf-8\")\n",
    "    print(lectura) #Espera hasta que empiece a comunicarse\n",
    "    if lectura[:8] == 'Medida: ':\n",
    "        tiempo = datetime.datetime.now()\n",
    "        deltat = tiempo - starttime\n",
    "        deltatvalue = deltat.seconds + deltat.microseconds/1000000\n",
    "        tiempos.append(deltatvalue)\n",
    "        medida = float(lectura[8:])\n",
    "        posiciones.append(medida)\n",
    "for i in range(100):\n",
    "    lectura = ser.readline().decode(\"utf-8\")\n",
    "    print(lectura) \n",
    "    if lectura == 'esperando\\r\\n':\n",
    "        print(ser.readline().decode(\"utf-8\") )\n",
    "        print(ser.readline().decode(\"utf-8\") )\n",
    "        break\n",
    "    if lectura[:8] == 'moviendo':\n",
    "        _pos = lectura.find('posicion') + 10\n",
    "        _pos2 = lectura.find(' ',_pos )\n",
    "        medida = float(lectura[_pos : _pos2])\n",
    "        posiciones.append(medida)\n",
    "        tiempo = datetime.datetime.now()\n",
    "        deltat = tiempo - starttime\n",
    "        deltatvalue = deltat.seconds + deltat.microseconds/1000000\n",
    "        tiempos.append(deltatvalue)\n",
    "ser.close()"
   ]
  },
  {
   "cell_type": "code",
   "execution_count": 8,
   "metadata": {
    "collapsed": false
   },
   "outputs": [
    {
     "data": {
      "text/plain": [
       "[9.543441,\n",
       " 11.497542,\n",
       " 11.91103,\n",
       " 12.324597,\n",
       " 12.738319,\n",
       " 13.147964,\n",
       " 13.561093,\n",
       " 13.975263,\n",
       " 14.388905,\n",
       " 16.145933,\n",
       " 17.305456,\n",
       " 17.719173,\n",
       " 18.132851,\n",
       " 18.546566,\n",
       " 18.960526,\n",
       " 19.373903,\n",
       " 19.787778,\n",
       " 20.201383,\n",
       " 20.615092,\n",
       " 21.028731,\n",
       " 21.442495,\n",
       " 21.855879,\n",
       " 22.269789,\n",
       " 22.679145,\n",
       " 23.093184,\n",
       " 23.506596000000002]"
      ]
     },
     "execution_count": 8,
     "metadata": {},
     "output_type": "execute_result"
    }
   ],
   "source": [
    "tiempos"
   ]
  },
  {
   "cell_type": "code",
   "execution_count": 9,
   "metadata": {
    "collapsed": false
   },
   "outputs": [
    {
     "data": {
      "text/plain": [
       "[85.0,\n",
       " 83.25,\n",
       " 74.84,\n",
       " 62.57,\n",
       " 46.1,\n",
       " 38.74,\n",
       " 38.74,\n",
       " 40.14,\n",
       " 47.85,\n",
       " 49.95,\n",
       " 66.86,\n",
       " 71.27,\n",
       " 85.88,\n",
       " 106.47,\n",
       " 147.22,\n",
       " 160.36,\n",
       " 176.13,\n",
       " 183.58,\n",
       " 185.34,\n",
       " 177.89,\n",
       " 163.43,\n",
       " 150.72,\n",
       " 146.34,\n",
       " 147.22,\n",
       " 149.41,\n",
       " 149.41]"
      ]
     },
     "execution_count": 9,
     "metadata": {},
     "output_type": "execute_result"
    }
   ],
   "source": [
    "posiciones"
   ]
  },
  {
   "cell_type": "code",
   "execution_count": 10,
   "metadata": {
    "collapsed": true
   },
   "outputs": [],
   "source": [
    "%matplotlib inline\n",
    "import matplotlib.pyplot as plt"
   ]
  },
  {
   "cell_type": "code",
   "execution_count": 11,
   "metadata": {
    "collapsed": false
   },
   "outputs": [
    {
     "data": {
      "text/plain": [
       "[<matplotlib.lines.Line2D at 0x19b74d5fd30>]"
      ]
     },
     "execution_count": 11,
     "metadata": {},
     "output_type": "execute_result"
    },
    {
     "data": {
      "image/png": "[encoded data removed]",
      "text/plain": [
       "<matplotlib.figure.Figure at 0x19b74cd7470>"
      ]
     },
     "metadata": {},
     "output_type": "display_data"
    }
   ],
   "source": [
    "plt.figure(figsize=(10,6))\n",
    "plt.plot(tiempos, posiciones)"
   ]
  },
  {
   "cell_type": "code",
   "execution_count": null,
   "metadata": {
    "collapsed": true
   },
   "outputs": [],
   "source": []
  },
  {
   "cell_type": "code",
   "execution_count": null,
   "metadata": {
    "collapsed": true
   },
   "outputs": [],
   "source": []
  },
  {
   "cell_type": "code",
   "execution_count": null,
   "metadata": {
    "collapsed": true
   },
   "outputs": [],
   "source": []
  }
 ],
 "metadata": {
  "kernelspec": {
   "display_name": "Python 3",
   "language": "python",
   "name": "python3"
  },
  "language_info": {
   "codemirror_mode": {
    "name": "ipython",
    "version": 3
   },
   "file_extension": ".py",
   "mimetype": "text/x-python",
   "name": "python",
   "nbconvert_exporter": "python",
   "pygments_lexer": "ipython3",
   "version": "3.5.2"
  }
 },
 "nbformat": 4,
 "nbformat_minor": 0
}
