{
 "cells": [
  {
   "cell_type": "markdown",
   "metadata": {},
   "source": [
    "<img src=\"./static/aeropython_name_mini.png\" alt=\"AeroPython\" style=\"width: 300px;\"/>"
   ]
  },
  {
   "cell_type": "markdown",
   "metadata": {},
   "source": [
    "# Taller Aeropython de Introducción"
   ]
  },
  {
   "cell_type": "markdown",
   "metadata": {},
   "source": [
    "## Parte 4: Importar bibliotecas y algunos ejemplos de Python de Verdad"
   ]
  },
  {
   "cell_type": "markdown",
   "metadata": {
    "collapsed": true
   },
   "source": [
    "### ¿Qué es una biblioteca?"
   ]
  },
  {
   "cell_type": "markdown",
   "metadata": {},
   "source": [
    "A parte de un sitio con libros al que la gente iba a leer antes de que existiera Internet, las bibliotecas o librerías (del inglés library) tienen otro significado: \n",
    "<div class=\"alert alert-info\"><strong>Tip</strong>:\n",
    "Una biblioteca es un conjunto de funciones y objetos que se distribuyen en bloque y que permiten expandir las funciones del Python básico en un campo concreto.\n",
    "</div>\n",
    "\n",
    "[<img src=\"./static/XKCDpython.png\" alt=\"AeroPython\" style=\"width: 400px;\"/>](https://xkcd.com/353/)"
   ]
  },
  {
   "cell_type": "markdown",
   "metadata": {},
   "source": [
    "#### Ejemplo: Numpy\n",
    "\n",
    "Una de las bibliotecas de Python más conocidas es Numpy. Numpy añade un tipo de objeto nuevo: el Array, y numerosas funciones matemáticas para interactuar con ellos. Un array es parecido a una lista (o una lista de listas), y es el equivalente a los vectores y matrices de las matemáticas en papel. Gracias a una serie de técnicas más o menos complejas, las operaciones matemáticas con arrays son mucho más sencillas y rápidas que trabajar con los tipos básicos."
   ]
  },
  {
   "cell_type": "code",
   "execution_count": null,
   "metadata": {
    "collapsed": true
   },
   "outputs": [],
   "source": [
    "# Para poder usar una biblioteca, tenemos que añadir sus funciones y objetos\n",
    "# al proyecto que estemos creando. Esto se llama \"importarla\".\n",
    "import numpy #Así de fácil"
   ]
  },
  {
   "cell_type": "markdown",
   "metadata": {},
   "source": [
    "Ahora, podemos usar todas las funciones y objetos de numpy. Para llamarlas, se hace así:"
   ]
  },
  {
   "cell_type": "code",
   "execution_count": null,
   "metadata": {
    "collapsed": false
   },
   "outputs": [],
   "source": [
    "x = [[ 0, 1],\n",
    "       [ 2, 3]] # x es una lista de listas\n",
    "y = numpy.array(x) # la función array convierte la lista en un objeto array\n",
    "y"
   ]
  },
  {
   "cell_type": "markdown",
   "metadata": {},
   "source": [
    "Comprobemos si es tan rápido como dicen!"
   ]
  },
  {
   "cell_type": "code",
   "execution_count": null,
   "metadata": {
    "collapsed": false
   },
   "outputs": [],
   "source": [
    "#vamos a crear una matriz horrorosa!\n",
    "x = []\n",
    "for ii in range(1000):\n",
    "    sub_matriz = []\n",
    "    for jj in range(1000):\n",
    "        sub_matriz.append(ii + 1000 * jj)\n",
    "    x.append(sub_matriz)\n"
   ]
  },
  {
   "cell_type": "code",
   "execution_count": null,
   "metadata": {
    "collapsed": false
   },
   "outputs": [],
   "source": [
    "y = numpy.array(x)\n",
    "y # es un array que contiene lo mismo que x"
   ]
  },
  {
   "cell_type": "code",
   "execution_count": null,
   "metadata": {
    "collapsed": false
   },
   "outputs": [],
   "source": [
    "%%timeit\n",
    "#Vamos a hacer un truco de magia negra para cronometrar\n",
    "suma = 0\n",
    "for fila in x:\n",
    "    suma += sum(fila)\n",
    "suma"
   ]
  },
  {
   "cell_type": "code",
   "execution_count": null,
   "metadata": {
    "collapsed": false
   },
   "outputs": [],
   "source": [
    "%%timeit\n",
    "numpy.sum(y)"
   ]
  },
  {
   "cell_type": "markdown",
   "metadata": {},
   "source": [
    "Numpy tiene muchísimas funciones útiles para trabajar con matemáticas, vectores y matrices:"
   ]
  },
  {
   "cell_type": "code",
   "execution_count": null,
   "metadata": {
    "collapsed": false
   },
   "outputs": [],
   "source": [
    "M = numpy.random.randint(20,size = (4,4))\n",
    "#M = numpy.reshape(a, [4,4])\n",
    "M"
   ]
  },
  {
   "cell_type": "code",
   "execution_count": null,
   "metadata": {
    "collapsed": false
   },
   "outputs": [],
   "source": [
    "M.T"
   ]
  },
  {
   "cell_type": "code",
   "execution_count": null,
   "metadata": {
    "collapsed": false
   },
   "outputs": [],
   "source": [
    "M + M.T"
   ]
  },
  {
   "cell_type": "code",
   "execution_count": null,
   "metadata": {
    "collapsed": false
   },
   "outputs": [],
   "source": [
    "M @ M.T"
   ]
  },
  {
   "cell_type": "code",
   "execution_count": null,
   "metadata": {
    "collapsed": false
   },
   "outputs": [],
   "source": [
    "numpy.linalg.inv(M)"
   ]
  },
  {
   "cell_type": "code",
   "execution_count": null,
   "metadata": {
    "collapsed": false
   },
   "outputs": [],
   "source": [
    "(M @ numpy.linalg.inv(M)).round(3)"
   ]
  },
  {
   "cell_type": "markdown",
   "metadata": {},
   "source": [
    "#### Matplotlib\n",
    "\n",
    "Matplotlib es otra de las bibliotecas de Python más usadas, y sirve para representar graficos de muchos tipos. Además, se lleva genial con numpy."
   ]
  },
  {
   "cell_type": "code",
   "execution_count": null,
   "metadata": {
    "collapsed": true
   },
   "outputs": [],
   "source": [
    "%matplotlib inline\n",
    "#Este comando sirve para que los gráficos salgan en el notebook en vez de en un pop-up"
   ]
  },
  {
   "cell_type": "code",
   "execution_count": null,
   "metadata": {
    "collapsed": true
   },
   "outputs": [],
   "source": [
    "#Esta vez vamos a importar de manera un pelín diferente\n",
    "import matplotlib.pyplot as plt \n",
    "# Esto significa que sólo vamos a importar el submódulo pyplot en vez de el módulo completo de matplotlib.\n",
    "# Además le ponemos el alias o mote de \"plt\" para que sea más cómodo usarlo"
   ]
  },
  {
   "cell_type": "code",
   "execution_count": null,
   "metadata": {
    "collapsed": false
   },
   "outputs": [],
   "source": [
    "x = numpy.linspace(0,10,100) #Esta es una de las funciones más útiles de numpy\n",
    "y = numpy.sin(x)\n",
    "plt.plot(x,y) #Esta es una de las funciones básicas de matplotlib"
   ]
  },
  {
   "cell_type": "code",
   "execution_count": null,
   "metadata": {
    "collapsed": false
   },
   "outputs": [],
   "source": [
    "y2 = x ** 2 / 50\n",
    "y3 = numpy.cos(x)\n",
    "\n",
    "plt.plot(x, y, 'k-')\n",
    "plt.plot(x, y2, 'r--')\n",
    "plt.plot(x, y3, 'go')"
   ]
  },
  {
   "cell_type": "code",
   "execution_count": null,
   "metadata": {
    "collapsed": false
   },
   "outputs": [],
   "source": [
    "plt.fill_between(x, y, y2, alpha=0.4)\n",
    "plt.fill_between(x, y, y3, color = 'r', alpha=0.4)"
   ]
  },
  {
   "cell_type": "markdown",
   "metadata": {
    "collapsed": true
   },
   "source": [
    "Con matplotlib podemos representar gráficamente las matrices de Numpy:"
   ]
  },
  {
   "cell_type": "code",
   "execution_count": null,
   "metadata": {
    "collapsed": false
   },
   "outputs": [],
   "source": [
    "plt.matshow(M)"
   ]
  },
  {
   "cell_type": "markdown",
   "metadata": {},
   "source": [
    "Uniendo las características de Numpy y matplotlib podemos llegar a hacer cosas realmente chulas:"
   ]
  },
  {
   "cell_type": "code",
   "execution_count": null,
   "metadata": {
    "collapsed": false
   },
   "outputs": [],
   "source": [
    "#Crear vectores 1D de las dimensiones requeridas\n",
    "x_1d = numpy.linspace(0, 5, 200)\n",
    "y_1d = numpy.linspace(-2, 4, 200)\n",
    "#Usar la función Meshgrid para combinarlos en dos matrices 2D\n",
    "X, Y = numpy.meshgrid(x_1d, y_1d)\n",
    "#Calcular la matriz de alturas con funciones de Numpy\n",
    "Z = numpy.cos(X) + numpy.cos(Y)\n",
    "\n",
    "plt.figure(figsize=(10,8))\n",
    "plt.contourf(X, Y, Z, numpy.linspace(-2, 2, 100),cmap=plt.cm.Spectral)\n",
    "plt.colorbar()\n",
    "cs = plt.contour(X, Y, Z, numpy.linspace(-2, 2, 9), colors='k')\n",
    "plt.clabel(cs)"
   ]
  },
  {
   "cell_type": "markdown",
   "metadata": {},
   "source": [
    "#### IPython Widgets\n",
    "\n",
    "Los widgets de IPython no son aún muy conocidos, pero son una de nuestras librerías favoritas gracias a la capacidad de interactuar con el notebook que nos dan.\n",
    "\n",
    "Este apunte está basada en un segmento de la charla de la PyConEs 14 de Kiko Correoso \"Hacking the notebook\": http://nbviewer.jupyter.org/github/kikocorreoso/PyConES14_talk-Hacking_the_Notebook/blob/master/notebooks/Using%20Interact.ipynb"
   ]
  },
  {
   "cell_type": "code",
   "execution_count": null,
   "metadata": {
    "collapsed": true
   },
   "outputs": [],
   "source": [
    "from ipywidgets import interact"
   ]
  },
  {
   "cell_type": "code",
   "execution_count": null,
   "metadata": {
    "collapsed": true
   },
   "outputs": [],
   "source": [
    "#Vamos a interactuar con funciones, así que empecemos por lo simple:\n",
    "def ejemplo(x):\n",
    "    print(x * 2)"
   ]
  },
  {
   "cell_type": "code",
   "execution_count": null,
   "metadata": {
    "collapsed": false
   },
   "outputs": [],
   "source": [
    "interact(ejemplo, x =10) #prueba a cambiar el valor de x a True, 'Hello' or ['hello', 'world']"
   ]
  },
  {
   "cell_type": "code",
   "execution_count": null,
   "metadata": {
    "collapsed": false
   },
   "outputs": [],
   "source": [
    "#Podemos controlar el slider con más precisión:\n",
    "interact(ejemplo, x = (9, 10, 0.1))"
   ]
  },
  {
   "cell_type": "markdown",
   "metadata": {},
   "source": [
    "Podemos generar un menú desplegable en el que las opciones sean strings simples pero lo que se pasa a la función sea algo más complejo. Para estos casos, usaremos diccionarios:"
   ]
  },
  {
   "cell_type": "code",
   "execution_count": null,
   "metadata": {
    "collapsed": false
   },
   "outputs": [],
   "source": [
    "interact(ejemplo, x={'opción 1': 10, 'opción 2': [20, 46, 'ornitorrincos']})"
   ]
  },
  {
   "cell_type": "markdown",
   "metadata": {},
   "source": [
    "¡Exploremos un poco más allá! ¿Alguna vez has oído hablar de las radios AM y FM? Son procesos de codificación para enviar las señales!"
   ]
  },
  {
   "cell_type": "code",
   "execution_count": null,
   "metadata": {
    "collapsed": false
   },
   "outputs": [],
   "source": [
    "x = numpy.linspace(-1, 7, 1000)\n",
    "\n",
    "fig = plt.figure()\n",
    "\n",
    "plt.subplot(211)#Para hacer varias sub-gráficas\n",
    "plt.plot(x, numpy.sin(x))\n",
    "plt.grid(False)\n",
    "plt.title(\"Señal de Audio a enviar: onda moduladora\")\n",
    "\n",
    "plt.subplot(212)\n",
    "plt.plot(x, numpy.sin(50 * x))\n",
    "plt.grid(False)\n",
    "plt.title(\"Señal de radio que se puede transmitir: onda portadora\")\n",
    "plt.tight_layout() #Ajusta las gráficas al espacio disponible"
   ]
  },
  {
   "cell_type": "code",
   "execution_count": null,
   "metadata": {
    "collapsed": false
   },
   "outputs": [],
   "source": [
    "#La modulación AM funciona así:\n",
    "am_wave = numpy.sin(50 * x) * (0.5 + 0.5 * numpy.sin(x))\n",
    "plt.plot(x, am_wave)"
   ]
  },
  {
   "cell_type": "code",
   "execution_count": null,
   "metadata": {
    "collapsed": true
   },
   "outputs": [],
   "source": [
    "def am_mod (f_carr=50, f_mod=1, depth=0.5):#Los valores por defecto indican como empezarán los sliders\n",
    "    x = numpy.linspace(-1, 7, 1000)\n",
    "    am_wave = numpy.sin(f_carr * x) * (1- depth/2 + depth/2 * numpy.sin(f_mod * x))\n",
    "   \n",
    "    plt.plot(x, am_wave)"
   ]
  },
  {
   "cell_type": "code",
   "execution_count": null,
   "metadata": {
    "collapsed": false
   },
   "outputs": [],
   "source": [
    "interact(am_mod,\n",
    "        f_carr = (1,100,2),\n",
    "        f_mod = (0.2, 2, 0.1),\n",
    "        depth = (0, 1, 0.1))"
   ]
  },
  {
   "cell_type": "markdown",
   "metadata": {
    "collapsed": true
   },
   "source": [
    "### Algunos ejemplos de Python de verdad"
   ]
  },
  {
   "cell_type": "markdown",
   "metadata": {},
   "source": [
    "Hay mucho software importante que está programado en Python. Por ejemplo:\n",
    "\n",
    "- Cura: Es un software para impresión 3D desarrollado por Ultimaker.\n",
    "\n",
    "En su [repositorio de GitHub](https://github.com/Ultimaker/Cura) podemos comprobar que está programado en Python en un 62%\n",
    "\n",
    "- FreeCAD: Es un programa de diseño asistido por ordenador.\n",
    "\n",
    "Tiene una potente interfaz para controlarlo desde Python, y en su [repositorio de GitHub](https://github.com/FreeCAD/FreeCAD) podemos comprobar que está escrito en Python en un 23%\n",
    "\n",
    "- Páginas web mediante Django.\n",
    "\n",
    "Hay muchas páginas web construídas total o parcialmente en Django. El grupo de Django Girls tiene un excelente [tutorial online](http://tutorial.djangogirls.org/es/) que se puede seguir gratis en español."
   ]
  },
  {
   "cell_type": "markdown",
   "metadata": {},
   "source": [
    "Si te está gustando este taller:\n",
    "\n",
    "<a href=\"https://twitter.com/share\" class=\"twitter-share-button\" data-url=\"https://github.com/AeroPython/PyDayMad16-intro\" data-text=\"Aprendiendo Python con\" data-via=\"AeroPython\" data-lang=\"es\" data-size=\"large\" data-hashtags=\"PyDay\">Twittear</a>\n",
    "<script>!function(d,s,id){var js,fjs=d.getElementsByTagName(s)[0],p=/^http:/.test(d.location)?'http':'https';if(!d.getElementById(id)){js=d.createElement(s);js.id=id;js.src=p+'://platform.twitter.com/widgets.js';fjs.parentNode.insertBefore(js,fjs);}}(document, 'script', 'twitter-wjs');</script>"
   ]
  },
  {
   "cell_type": "markdown",
   "metadata": {},
   "source": [
    "#### <h4 align=\"right\">¡Síguenos en Twitter!"
   ]
  },
  {
   "cell_type": "markdown",
   "metadata": {},
   "source": [
    "###### <a href=\"https://twitter.com/AeroPython\" class=\"twitter-follow-button\" data-show-count=\"false\">Follow @AeroPython</a> <script>!function(d,s,id){var js,fjs=d.getElementsByTagName(s)[0],p=/^http:/.test(d.location)?'http':'https';if(!d.getElementById(id)){js=d.createElement(s);js.id=id;js.src=p+'://platform.twitter.com/widgets.js';fjs.parentNode.insertBefore(js,fjs);}}(document, 'script', 'twitter-wjs');</script>  "
   ]
  },
  {
   "cell_type": "markdown",
   "metadata": {},
   "source": [
    "##### <a rel=\"license\" href=\"http://creativecommons.org/licenses/by/4.0/deed.es\"><img alt=\"Licencia Creative Commons\" style=\"border-width:0\" src=\"http://i.creativecommons.org/l/by/4.0/88x31.png\" /></a><br /><span xmlns:dct=\"http://purl.org/dc/terms/\" property=\"dct:title\">Curso AeroPython</span> por <span xmlns:cc=\"http://creativecommons.org/ns#\" property=\"cc:attributionName\">Juan Luis Cano Rodriguez y Alejandro Sáez Mollejo</span> se distribuye bajo una <a rel=\"license\" href=\"http://creativecommons.org/licenses/by/4.0/deed.es\">Licencia Creative Commons Atribución 4.0 Internacional</a>."
   ]
  },
  {
   "cell_type": "markdown",
   "metadata": {},
   "source": [
    "##### <script src=\"//platform.linkedin.com/in.js\" type=\"text/javascript\"></script> <script type=\"IN/MemberProfile\" data-id=\"http://es.linkedin.com/in/juanluiscanor\" data-format=\"inline\" data-related=\"false\"></script> <script src=\"//platform.linkedin.com/in.js\" type=\"text/javascript\"></script> <script type=\"IN/MemberProfile\" data-id=\"http://es.linkedin.com/in/alejandrosaezm\" data-format=\"inline\" data-related=\"false\"></script>"
   ]
  },
  {
   "cell_type": "markdown",
   "metadata": {},
   "source": [
    "---\n",
    "_Las siguientes celdas contienen configuración del Notebook_\n",
    "\n",
    "_Para visualizar y utlizar los enlaces a Twitter el notebook debe ejecutarse como [seguro](http://ipython.org/ipython-doc/dev/notebook/security.html)_\n",
    "\n",
    "    File > Trusted Notebook"
   ]
  },
  {
   "cell_type": "code",
   "execution_count": null,
   "metadata": {
    "collapsed": false
   },
   "outputs": [],
   "source": [
    "%%html\n",
    "<a href=\"https://twitter.com/AeroPython\" class=\"twitter-follow-button\" data-show-count=\"false\">Follow @AeroPython</a>\n",
    "<script>!function(d,s,id){var js,fjs=d.getElementsByTagName(s)[0],p=/^http:/.test(d.location)?'http':'https';if(!d.getElementById(id)){js=d.createElement(s);js.id=id;js.src=p+'://platform.twitter.com/widgets.js';fjs.parentNode.insertBefore(js,fjs);}}(document, 'script', 'twitter-wjs');</script>"
   ]
  },
  {
   "cell_type": "code",
   "execution_count": 1,
   "metadata": {
    "collapsed": false
   },
   "outputs": [
    {
     "data": {
      "text/html": [
       "<link href='http://fonts.googleapis.com/css?family=Source+Sans+Pro|Josefin+Sans:400,700,400italic|Ubuntu+Condensed' rel='stylesheet' type='text/css'>\n",
       "\n",
       "\n",
       "<style>\n",
       "\n",
       "#notebook_panel { /* main background */\n",
       "    background: #f7f7f7;\n",
       "}\n",
       "\n",
       "div.cell { /* set cell width */\n",
       "    width: 900px;\n",
       "}\n",
       "\n",
       "div #notebook { /* centre the content */\n",
       "    background: #fff; /* white background for content */\n",
       "    width: 950px;\n",
       "    margin: auto;\n",
       "    padding-left: 0em;\n",
       "}\n",
       "\n",
       "#notebook li { /* More space between bullet points */\n",
       "    margin-top:0.7em;\n",
       "}\n",
       "\n",
       "/* draw border around running cells */\n",
       "div.cell.border-box-sizing.code_cell.running { \n",
       "    border: 1px solid #111;\n",
       "}\n",
       "\n",
       "/* Put a solid color box around each cell and its output, visually linking them*/\n",
       "div.cell.code_cell {\n",
       "    font-family: 'Source Sans Pro', sans-serif;\n",
       "    background-color: rgb(256,256,256);\n",
       "    font-size: 110%;\n",
       "    border-radius: 0px; \n",
       "    padding: 0.5em;\n",
       "    margin-left:1em;\n",
       "    margin-top: 1em;\n",
       "}\n",
       "\n",
       "div.text_cell_render{\n",
       "    font-family: 'Josefin Sans', serif;\n",
       "    line-height: 145%;\n",
       "    font-size: 125%;\n",
       "    font-weight: 500;\n",
       "    width:750px;\n",
       "    margin-left:auto;\n",
       "    margin-right:auto;\n",
       "}\n",
       "\n",
       "\n",
       "/* Formatting for header cells */\n",
       ".text_cell_render h1, .text_cell_render h2, .text_cell_render h3,\n",
       ".text_cell_render h4, .text_cell_render h5 {\n",
       "    font-family: 'Ubuntu Condensed', sans-serif;\n",
       "}\n",
       "\n",
       ".text_cell_render h1 {    /*Use this for Title*/\n",
       "    font-weight: 500;\n",
       "    font-size: 38pt;\n",
       "    line-height: 100%;\n",
       "    color: #ffbc29;\n",
       "    text-align: center;\n",
       "    margin-bottom: 0.1em;\n",
       "    margin-top: 0.3em;\n",
       "    display: block;\n",
       "}\n",
       "\n",
       ".text_cell_render h2 {    /*Use this for Subtitle*/\n",
       "    margin-top:16px;\n",
       "    font-size: 32pt;\n",
       "    font-weight: 500;\n",
       "    margin-bottom: 0.1em;\n",
       "    margin-top: 0.3em;\n",
       "    text-align: center;\n",
       "    font-style: regular;\n",
       "    color: #376a94;\n",
       "}\t\n",
       "\n",
       ".text_cell_render h3 {   /*Sections*/ \n",
       "    font-size: 30pt;\n",
       "    font-weight: 300;\n",
       "    text-align: left;\n",
       "    margin-bottom: 0.1em;\n",
       "    margin-top: 0.3em;\n",
       "    font-style: regular;\n",
       "    color:  #252525;\n",
       "}\n",
       "\n",
       ".text_cell_render h4 {    /*Subsections*/\n",
       "    font-size: 28pt;\n",
       "    font-weight: 200;\n",
       "    text-align: left;\n",
       "    margin-bottom: 0.1em;\n",
       "    margin-top: 0.3em;\n",
       "    font-style: regular;\n",
       "    color:  #376a94;\n",
       "}\n",
       "\n",
       ".text_cell_render h5 {    /*Subsubsections*/\n",
       "    font-size: 20pt;\n",
       "    font-weight: 300;\n",
       "    font-style: italic;\n",
       "    margin-bottom: .1em;\n",
       "    margin-top: 0.8em;\n",
       "    display: block;\n",
       "    color:  #ffbc29;\n",
       "}\n",
       "\n",
       ".text_cell_render h6 {    /*Author*/\n",
       "    font-family: 'Ubuntu Condensed', sans-serif;\n",
       "    font-weight: 100;\n",
       "    font-size: 14pt;\n",
       "    line-height: 100%;\n",
       "    color: #252525;\n",
       "    text-align: right;\n",
       "    margin-bottom: 1px;\n",
       "    margin-top: 3px;\n",
       "}\n",
       "\n",
       ".CodeMirror{\n",
       "        font-family: 'Duru Sans', sans-serif;\n",
       "        font-size: 100%;\n",
       "}\n",
       "\n",
       "</style>\n",
       "<script>\n",
       "    MathJax.Hub.Config({\n",
       "                        TeX: {\n",
       "                           extensions: [\"AMSmath.js\"],\n",
       "                           equationNumbers: { autoNumber: \"AMS\", useLabelIds: true}\n",
       "                           },\n",
       "                tex2jax: {\n",
       "                    inlineMath: [ ['$','$'], [\"\\\\(\",\"\\\\)\"] ],\n",
       "                    displayMath: [ ['$$','$$'], [\"\\\\[\",\"\\\\]\"] ]\n",
       "                },\n",
       "                displayAlign: 'center', // Change this to 'center' to center equations.\n",
       "                \"HTML-CSS\": {\n",
       "                    styles: {'.MathJax_Display': {\"margin\": 4}}\n",
       "                }\n",
       "        });\n",
       "</script>\n"
      ],
      "text/plain": [
       "<IPython.core.display.HTML object>"
      ]
     },
     "execution_count": 1,
     "metadata": {},
     "output_type": "execute_result"
    }
   ],
   "source": [
    "# Esta celda da el estilo al notebook\n",
    "from IPython.core.display import HTML\n",
    "css_file = './static/style.css'\n",
    "HTML(open(css_file, \"r\").read())"
   ]
  },
  {
   "cell_type": "code",
   "execution_count": null,
   "metadata": {
    "collapsed": true
   },
   "outputs": [],
   "source": []
  }
 ],
 "metadata": {
  "kernelspec": {
   "display_name": "Python 3",
   "language": "python",
   "name": "python3"
  },
  "language_info": {
   "codemirror_mode": {
    "name": "ipython",
    "version": 3
   },
   "file_extension": ".py",
   "mimetype": "text/x-python",
   "name": "python",
   "nbconvert_exporter": "python",
   "pygments_lexer": "ipython3",
   "version": "3.5.2"
  }
 },
 "nbformat": 4,
 "nbformat_minor": 0
}
